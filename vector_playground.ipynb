{
 "cells": [
  {
   "cell_type": "code",
   "execution_count": 1,
   "metadata": {},
   "outputs": [],
   "source": [
    "import numpy as np\n",
    "from collections import Counter"
   ]
  },
  {
   "cell_type": "code",
   "execution_count": 66,
   "metadata": {},
   "outputs": [],
   "source": [
    "with open(\"clean.txt\") as file:\n",
    "    contents = file.read()"
   ]
  },
  {
   "cell_type": "code",
   "execution_count": 67,
   "metadata": {},
   "outputs": [],
   "source": [
    "characters = set(contents)\n",
    "table = {}"
   ]
  },
  {
   "cell_type": "code",
   "execution_count": 68,
   "metadata": {},
   "outputs": [],
   "source": [
    "np.random.seed(76)\n",
    "for c in characters:\n",
    "    table[c] = np.random.choice([0, 1], size=(100000,), p=[1999./2000, 1./2000])"
   ]
  },
  {
   "cell_type": "code",
   "execution_count": 69,
   "metadata": {},
   "outputs": [],
   "source": [
    "count = Counter(contents)"
   ]
  },
  {
   "cell_type": "code",
   "execution_count": 70,
   "metadata": {},
   "outputs": [],
   "source": [
    "summation = np.zeros(100000)"
   ]
  },
  {
   "cell_type": "code",
   "execution_count": 71,
   "metadata": {},
   "outputs": [],
   "source": [
    "for t in table:\n",
    "    summation = np.add(summation, np.multiply(count[t], table[t]))"
   ]
  },
  {
   "cell_type": "code",
   "execution_count": 72,
   "metadata": {},
   "outputs": [
    {
     "data": {
      "text/plain": [
       "1.0"
      ]
     },
     "execution_count": 72,
     "metadata": {},
     "output_type": "execute_result"
    }
   ],
   "source": [
    "temp = ' '\n",
    "x = np.dot(summation, table[temp])\n",
    "x / np.sum(table[temp]) / count[temp]"
   ]
  },
  {
   "cell_type": "code",
   "execution_count": 73,
   "metadata": {},
   "outputs": [],
   "source": [
    "freq_est = {}\n",
    "for t in table:\n",
    "    x = np.dot(summation, table[t])\n",
    "    freq_est[t] = x / np.sum(table[t]) / count[t]"
   ]
  },
  {
   "cell_type": "code",
   "execution_count": 74,
   "metadata": {},
   "outputs": [
    {
     "data": {
      "text/plain": [
       "1.1813627373961288"
      ]
     },
     "execution_count": 74,
     "metadata": {},
     "output_type": "execute_result"
    }
   ],
   "source": [
    "avg = 0\n",
    "for t in table:\n",
    "    avg += freq_est[t]\n",
    "avg / len(table)"
   ]
  },
  {
   "cell_type": "code",
   "execution_count": 75,
   "metadata": {},
   "outputs": [
    {
     "data": {
      "text/plain": [
       "{' ': 1.0,\n",
       " '!': 1.444808743169399,\n",
       " '(': 1.0,\n",
       " ')': 1.0904503105590062,\n",
       " ',': 1.0,\n",
       " '-': 1.0,\n",
       " '.': 1.0009736733700334,\n",
       " ':': 1.3888412017167382,\n",
       " ';': 1.0,\n",
       " '?': 2.6382516300410526,\n",
       " 'a': 1.0,\n",
       " 'b': 1.0,\n",
       " 'c': 1.0,\n",
       " 'd': 1.0008598261896415,\n",
       " 'e': 1.0074261955107353,\n",
       " 'f': 1.0631744186046512,\n",
       " 'g': 1.0728368233899643,\n",
       " 'h': 1.0147053837808517,\n",
       " 'i': 1.0,\n",
       " 'j': 1.0,\n",
       " 'k': 1.0,\n",
       " 'l': 1.0,\n",
       " 'm': 1.0,\n",
       " 'n': 1.0035266528547804,\n",
       " 'o': 1.0,\n",
       " 'p': 1.0064190345771997,\n",
       " 'q': 2.463616427432217,\n",
       " 'r': 1.0754066281108625,\n",
       " 's': 1.0001877500769467,\n",
       " 't': 1.0010271017926349,\n",
       " 'u': 1.0,\n",
       " 'v': 1.0,\n",
       " 'w': 1.0690140158043642,\n",
       " 'x': 1.0,\n",
       " 'y': 1.0,\n",
       " 'z': 1.0,\n",
       " '‘': 1.0425864313612034,\n",
       " '’': 1.097408102286151,\n",
       " '“': 3.400063051702396,\n",
       " '”': 1.3729260935143288}"
      ]
     },
     "execution_count": 75,
     "metadata": {},
     "output_type": "execute_result"
    }
   ],
   "source": [
    "freq_est"
   ]
  },
  {
   "cell_type": "code",
   "execution_count": null,
   "metadata": {},
   "outputs": [],
   "source": []
  }
 ],
 "metadata": {
  "kernelspec": {
   "display_name": "Python 3",
   "language": "python",
   "name": "python3"
  },
  "language_info": {
   "codemirror_mode": {
    "name": "ipython",
    "version": 3
   },
   "file_extension": ".py",
   "mimetype": "text/x-python",
   "name": "python",
   "nbconvert_exporter": "python",
   "pygments_lexer": "ipython3",
   "version": "3.6.2"
  }
 },
 "nbformat": 4,
 "nbformat_minor": 2
}
